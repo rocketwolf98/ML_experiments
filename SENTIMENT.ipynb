{
  "nbformat": 4,
  "nbformat_minor": 0,
  "metadata": {
    "colab": {
      "provenance": [],
      "authorship_tag": "ABX9TyMzssSCGbp7PUdUx8htQJ7p",
      "include_colab_link": true
    },
    "kernelspec": {
      "name": "python3",
      "display_name": "Python 3"
    },
    "language_info": {
      "name": "python"
    }
  },
  "cells": [
    {
      "cell_type": "markdown",
      "metadata": {
        "id": "view-in-github",
        "colab_type": "text"
      },
      "source": [
        "<a href=\"https://colab.research.google.com/github/rocketwolf98/ML_experiments/blob/main/SENTIMENT.ipynb\" target=\"_parent\"><img src=\"https://colab.research.google.com/assets/colab-badge.svg\" alt=\"Open In Colab\"/></a>"
      ]
    },
    {
      "cell_type": "code",
      "execution_count": 5,
      "metadata": {
        "colab": {
          "base_uri": "https://localhost:8080/"
        },
        "id": "4N1OOpBGFSQc",
        "outputId": "c0abab1f-165f-43a2-a61c-60f5f30ae51e"
      },
      "outputs": [
        {
          "output_type": "stream",
          "name": "stdout",
          "text": [
            "Collecting lxml_html_clean\n",
            "  Downloading lxml_html_clean-0.4.1-py3-none-any.whl.metadata (2.4 kB)\n",
            "Requirement already satisfied: lxml in /usr/local/lib/python3.11/dist-packages (from lxml_html_clean) (5.3.0)\n",
            "Downloading lxml_html_clean-0.4.1-py3-none-any.whl (14 kB)\n",
            "Installing collected packages: lxml_html_clean\n",
            "Successfully installed lxml_html_clean-0.4.1\n"
          ]
        }
      ],
      "source": [
        "!pip install lxml_html_clean"
      ]
    },
    {
      "cell_type": "code",
      "source": [
        "from textblob import TextBlob\n",
        "from newspaper import Article\n",
        "import nltk\n",
        "nltk.download('punkt_tab')"
      ],
      "metadata": {
        "colab": {
          "base_uri": "https://localhost:8080/"
        },
        "id": "718ps4KqFi0C",
        "outputId": "045898c3-db21-4153-c6ec-3d5edb6c7db6"
      },
      "execution_count": 9,
      "outputs": [
        {
          "output_type": "stream",
          "name": "stderr",
          "text": [
            "[nltk_data] Downloading package punkt_tab to /root/nltk_data...\n",
            "[nltk_data]   Unzipping tokenizers/punkt_tab.zip.\n"
          ]
        },
        {
          "output_type": "execute_result",
          "data": {
            "text/plain": [
              "True"
            ]
          },
          "metadata": {},
          "execution_count": 9
        }
      ]
    },
    {
      "cell_type": "code",
      "source": [
        "#sample article 1\n",
        "url = ('https://www.rappler.com/newsbreak/data-documents/philippine-budget-2025-blanks-adjustments-after-ratification/')\n",
        "article = Article(url)\n",
        "\n",
        "article.download()\n",
        "article.parse()\n",
        "article.nlp()\n",
        "\n",
        "text = article.text\n",
        "print(text)"
      ],
      "metadata": {
        "colab": {
          "base_uri": "https://localhost:8080/"
        },
        "collapsed": true,
        "id": "SZqaxDyuFzJV",
        "outputId": "0d4ea251-8370-4a88-e7e2-477b4212411c"
      },
      "execution_count": 13,
      "outputs": [
        {
          "output_type": "stream",
          "name": "stdout",
          "text": [
            "This is AI generated summarization, which may have errors. For context, always refer to the full article.\n",
            "\n",
            "MEMBERS of the bicameral conference committee on the proposed 2025 budget are shown in this collage with a page from the ratified report showing blanks on the budget.\n",
            "\n",
            "One agriculture program, for instance, lost P9 billion in funding, but it was not specified in the bicameral conference committee report, since the amendment just contained a blank\n",
            "\n",
            "Adjustments to the proposed 2025 national budget involving billions of pesos were made even after the legislative branch already ratified the final version of the spending bill that was to be sent to the Palace for President Ferdinand Marcos Jr.’s signature, Rappler’s computation found.\n",
            "\n",
            "The controversy stems from the numerous blanks contained in the bicameral conference committee report on the disagreements between the House and the Senate on the House-approved General Appropriations Bill (GAB). (READ: [In This Economy] Who filled in the blanks in the 2025 budget?)\n",
            "\n",
            "All of the projects involved the Department of Agriculture.\n",
            "\n",
            "The biggest adjustment made was in connection with the DA’s Agriculture and Fisheries Modernization Program. In the House-approved document, the total amount to be supplemented in the budgets of various concerned agencies stood at P104.82 billion. The bicameral conference committee changed the amount to blank, and when the President signed the enrolled copy of the budget, the value was reduced to P87.111 billion, equivalent to a deduction of P17.708 billion.\n",
            "\n",
            "Another major discrepancy was on the National Programs for Rice, Corn, High Value Crops Development, Organic Agriculture, Livestock, and Urban and Peri-Urban Agriculture. The House approved a budget of P45.848 billion, but the bicam changed the amount to blank. The version of the budget that the President signed allocated only P36.136 billion to the program, a decrease of P9.712 billion.\n",
            "\n",
            "There were also increases, the most notable of which was the funding for the National Fisheries Program. The budget approved by the House worth P6.272 billion was changed to blank in the bicam, yet when the President signed the GAA, an additional P2.298 billion was allocated to the program.\n",
            "\n",
            "The adjustments, based on Rappler’s research, are summarized below.\n",
            "\n",
            "What’s the issue?\n",
            "\n",
            "The budget cycle every year is continuous. The executive branch led by the Department of Budget and Management prepares the National Expenditure Program (NEP), which is the President’s proposed budget that will be the subject of congressional approval.\n",
            "\n",
            "The House receives the NEP, which becomes the basis of the General Appropriations Bill. After the House passes the spending bill, it sends the GAB to the Senate, which passes its own version. Select members of both chambers convene to harmonize disagreeing provisions of their own drafts through the bicameral conference committee.\n",
            "\n",
            "Once the said committee reconciles the differences, they sign a report which contains the said amendments, ratified separately by both chambers. This is now the final version of the budget, and the House prints an enrolled copy sent to Malacañang for the President’s signature.\n",
            "\n",
            "The adjustments discovered, however, raise various questions:\n",
            "\n",
            "When were the blanks on the bicameral conference committee report filled out?\n",
            "\n",
            "Who was responsible for filling out the blanks on the bicameral conference committee report, since the copy signed by the President already had values indicated in the blanks?\n",
            "\n",
            "How were the budget cuts and bumps decided upon if the bicameral conference committee members signed a report that contained blanks?\n",
            "\n",
            "Davao City 3rd District Representative Isidro Ungab, who was once chairperson of the appropriations committee, first flagged the blanks during a podcast streamed on the Facebook page of Davao City Mayor Sebastian Duterte on Saturday, January 18.\n",
            "\n",
            "Former president Rodrigo Duterte, who was a guest on his son’s online show, claimed that this made the 2025 budget invalid.\n",
            "\n",
            "President Marcos fired back at his predecessor on Monday, January 20, accusing Duterte of lying, and insisted that the General Appropriations Act did not contain blanks. The GAA, according to the Office of the Ombudsman, “covers the annual operating requirements of agencies of government” and is “the most comprehensive source of appropriation cover for the budget of the government.”\n",
            "\n",
            "While Marcos’ statement is true, it does not directly debunk Ungab’s statement, since the latter was referring to the blanks on the bicameral conference committee report.\n",
            "\n",
            "Kabataan Representative Raoul Manuel later echoed Ungab’s concerns, confirming on Wednesday, January 22, that the blanks were contained in the report disseminated to the House members on December 11, 2024, just minutes before the plenary voted on its ratification.\n",
            "\n",
            "“Every item in the budget, before it is proposed, before it is submitted, before it is approved by whoever, there should be a number. So the existence of blanks on the budget of the Department of Agriculture is a valid issue,” budget expert Zy-za Suzara said in an interview on Facts First Tonight with Christian Esguerra on Monday, January 20.\n",
            "\n",
            "“We don’t know of course what the reason is because there’s no transparency in the bicam,” she said, referring to the closed-door nature of the deliberations.\n",
            "\n",
            "Constitutional question?\n",
            "\n",
            "Some sectors have suggested raising this budget’s constitutionality issues with the courts, but former congressman and budget secretary Butch Abad has doubts these would prosper.\n",
            "\n",
            "Abad told Rappler he had never encountered the issue of blanks in the bicam report during his time as a lawmaker, as well as during his six-year stint preparing then-president Benigno Aquino III’s budget. He doubts that issues of legality this time around will prosper in courts.\n",
            "\n",
            "“There is a such thing as doctrine of enrolled bill, which states that an enrolled bill is conclusively presumed enacted in accordance with the procedural constitutional requirements. And if you’re looking for evidence to question that, there is no other evidence beyond the enrolled bill itself,” Abad said.\n",
            "\n",
            "The Supreme Court will no longer interfere if the House or the Senate followed their internal rules of procedure. I think that flows from the principle of independence of branches,” he added.\n",
            "\n",
            "Rappler has reached out to Ako Bicol Representative Zaldy Co and Senator Grace Poe, who headed their chamber’s delegations in the bicam, for clarity, but has yet to receive a response.\n",
            "\n",
            "Poe, in an ambush interview with GMA News on Thursday, January 23, said: “I don’t see any problem [with the bicam report]… When we completed the bicam report and we submitted it as an enrolled bill, it was complete.” – Rappler.com\n"
          ]
        }
      ]
    },
    {
      "cell_type": "code",
      "source": [
        "blob = TextBlob(text)\n",
        "sentiment = blob.sentiment.polarity\n",
        "print(sentiment)"
      ],
      "metadata": {
        "colab": {
          "base_uri": "https://localhost:8080/"
        },
        "id": "OcEz5rGsG5ey",
        "outputId": "4bb0804a-d937-49cf-df0d-9e766e3cab7e"
      },
      "execution_count": 14,
      "outputs": [
        {
          "output_type": "stream",
          "name": "stdout",
          "text": [
            "0.1083712121212121\n"
          ]
        }
      ]
    },
    {
      "cell_type": "code",
      "source": [
        "#sample article 2\n",
        "url = 'https://metrocdodev.com/2025/01/23/76-ip-leaders-declare-cpp-npa-persona-non-grata-in-misamis-oriental/'\n",
        "article = Article(url)\n",
        "\n",
        "article.download()\n",
        "article.parse()\n",
        "article.nlp()\n",
        "\n",
        "text = article.text\n",
        "print(text)"
      ],
      "metadata": {
        "colab": {
          "base_uri": "https://localhost:8080/"
        },
        "collapsed": true,
        "id": "-qk-_sOhHhCc",
        "outputId": "53bde1ec-0abf-4842-9c1d-0eea82bcb673"
      },
      "execution_count": 15,
      "outputs": [
        {
          "output_type": "stream",
          "name": "stdout",
          "text": [
            "Seventy-six (76) Indigenous Peoples (IP) leaders from the Higaonon Tribe in Misamis Oriental have formally withdrawn their support for the Communist Party of the Philippines – New People’s Army (CPP-NPA) and declared the group “persona non-grata.” This significant event took place on January 12, 2025, in Sitio Lantad, Barangay Kibanban, Balingasag town. It was facilitated by the 58th Infantry (Dimalulupig) Battalion, led by Lt. Col. Leoncito I. Grezula Jr.\n",
            "\n",
            "According to a press release, the leaders represented various areas, including Barangay Bantaawan in Gingoog City, Sitio Lantad, Barangay Kibanban, Barangay Bolahan, and Samay in Balingasag, Misamis Oriental. The event also featured sacred rites conducted by the IP leaders, signifying their united stand against the NPA. This was particularly significant given the historical context of the Balatukan Mountain Complex, where former NPA strongholds, such as Sitio Anaw in Barangay Bantaawan and Sitio Lantad in Kibanban, have been pivotal areas in past conflicts.\n",
            "\n",
            "This initiative is part of the 58IB’s ongoing efforts, in collaboration with the Provincial Local Government of Misamis Oriental, to strengthen peace and stability in the region. The declaration comes in response to concerns regarding the involvement of certain Indigenous Peoples in Communist Terrorist Groups (CTGs) that have been linked to actions undermining local security and peace.\n",
            "\n",
            "Governor Peter M. Unabia of Misamis Oriental expressed strong support for the initiative, highlighting the importance of unity and cross-sector collaboration in ensuring the safety and development of the province, as he also emphasized that the Indigenous Peoples of Misamis Oriental are crucial to the region’s cultural identity and the achievement of long-term peace and progress.\n",
            "\n",
            "The declaration of the Higaonon Tribe leaders is seen as a significant step toward a violence-free community. It is expected that this move will inspire other local leaders to make similar declarations, further contributing to peacebuilding efforts across the province. The 58IB, alongside the local government, remains committed to enhancing security while fostering dialogue to promote harmonious coexistence among all stakeholders.\n",
            "\n",
            "In a statement, Lt. Col. Leoncito I. Grezula Jr., Commanding Officer of 58IB, underscored the significance of the declaration made by the Higaonon Tribe leaders as a clear message of resistance against the destructive influence of the CPP-NPA in the region.\n",
            "\n",
            "He emphasized that this bold step is a testament to the growing unity of the local communities in the fight for peace and security, and the 58IB will continue to support these efforts through strengthened partnerships with local governments and other stakeholders.\n",
            "\n",
            "Lt. Col. Grezula reiterated the commitment of the 58IB to safeguarding the areas from insurgency and fostering an environment conducive to development and prosperity for all communities.\n",
            "\n",
            "press release from 58th Infantry “Dimalulupig” Battalion, 4ID, PA\n",
            "\n",
            "Share this: Twitter\n",
            "\n",
            "Facebook\n",
            "\n",
            "\n"
          ]
        }
      ]
    },
    {
      "cell_type": "code",
      "source": [
        "blob = TextBlob(text)\n",
        "sentiment = blob.sentiment.polarity\n",
        "print(sentiment)"
      ],
      "metadata": {
        "colab": {
          "base_uri": "https://localhost:8080/"
        },
        "id": "GvK0CJ4MIQpK",
        "outputId": "e560d367-b6d5-474b-cac3-919b53d27673"
      },
      "execution_count": 16,
      "outputs": [
        {
          "output_type": "stream",
          "name": "stdout",
          "text": [
            "0.04973503507986266\n"
          ]
        }
      ]
    },
    {
      "cell_type": "code",
      "source": [
        "#sample article 3\n",
        "url = 'https://apnews.com/article/trump-sex-gender-transgender-dei-order-245350b97e0c4dcc221fefc49ef44699'\n",
        "article = Article(url)\n",
        "\n",
        "article.download()\n",
        "article.parse()\n",
        "article.nlp()\n",
        "\n",
        "text = article.text\n",
        "print(text)"
      ],
      "metadata": {
        "colab": {
          "base_uri": "https://localhost:8080/"
        },
        "collapsed": true,
        "id": "ZwGy3DW2IVrI",
        "outputId": "e18790a3-b722-4996-d3e0-476025609ac4"
      },
      "execution_count": 22,
      "outputs": [
        {
          "output_type": "stream",
          "name": "stdout",
          "text": [
            "▶ Follow live updates on President Donald Trump’s return to Washington\n",
            "\n",
            "President Donald Trump signed executive orders Monday rolling back protections for transgender people and terminating diversity, equity and inclusion programs within the federal government in what he described in his inauguration speech as a move to end efforts to “socially engineer race and gender into every aspect of public and private life.”\n",
            "\n",
            "Both are major shifts for the federal policy and are in line with Trump’s campaign promises.\n",
            "\n",
            "One order declares that the federal government would recognize only two immutable sexes: male and female. The definition will be based on whether people are born with eggs or sperm, rather than on their chromosomes. The change is being pitched as a way to protect women from “gender extremism.”\n",
            "\n",
            "Conservative groups such as the American Family Association are praising the change as one that acknowledges the truth. But experts including the American Medical Association and American Psychiatric Association hold that gender is a spectrum, not a binary structure consisting only of males and females.\n",
            "\n",
            "Under the order, federal prisons and shelters for migrants and rape victims are to be segregated by sex as defined by the order.\n",
            "\n",
            "And federal taxpayer money could not be used to fund “transition services.” A small number of federal prison inmates have had gender-affirming surgery and more have had treatments such as hormone therapy paid for with federal funds.\n",
            "\n",
            "Medicaid in some states covers such treatments, but judges put on hold a Biden administration rule that would have extended that nationally.\n",
            "\n",
            "The order would also block requirements at government facilities and at workplaces that transgender people be referred to using the pronouns that align with their gender. Trump’s team says those requirements violate the First Amendment’s freedom of speech and religion.\n",
            "\n",
            "The order does not issue a nationwide mandate on which bathrooms transgender people can use or which sports competitions they can join, though many states have passed laws on those areas.\n",
            "\n",
            "Civil rights groups were preparing to challenge Trump’s orders.\n",
            "\n",
            "“We are not going anywhere,” Human Rights Campaign President Kelley Robinson said in a statement, “and we will fight back against these harmful provisions with everything we’ve got.”\n",
            "\n",
            "Trump also revoked protections for transgender military personnel that former President Joe Biden had signed. There are an estimated 9,000 to 14,000 transgender troops.\n",
            "\n",
            "A separate order aims to halt federal agencies’ DEI programs. Conservatives have long condemned them, arguing they violate the Constitution by using preferences based on race, gender and sexual orientation. Trump got big cheers at a rally in Washington on Sunday when he said he’d end DEI requirements from the military and schools. The order does not directly address what schools do, though.\n",
            "\n",
            "Trump officials said it’s fitting the order is being delivered on Martin Luther King Jr. Day, as it aims to return to the idea that one day all Americans can be treated on the basis of their character and not by the color of their skin.\n",
            "\n",
            "Trump referred to that in his inauguration speech Monday, saying: “We will strive together to make his dream a reality. We will make his dream come true.” He later added: “We will forge a society that is colorblind and merit-based.”\n",
            "\n",
            "Maya Wiley, president and CEO of The Leadership Conference on Civil and Human Rights, said Trump’s policies are a step backward. “Dr. King had a dream, and this is his nightmare: the rollback of the work of our civil and human rights coalition over the past 75 years,” she said in a statement.\n",
            "\n",
            "The purpose of the DEI plans was to foster equitable environments in businesses and schools, especially for historically marginalized communities. While researchers say that DEI initiatives stem back to the 1960s, more were launched and expanded in 2020 during increased calls for racial justice.\n",
            "\n",
            "Businesses, including Walmart, McDonalds, and Meta, have already rolled back their diversity policies since the 2024 election.\n"
          ]
        }
      ]
    },
    {
      "cell_type": "code",
      "source": [
        "blob = TextBlob(text)\n",
        "sentiment = blob.sentiment.polarity\n",
        "print(sentiment)"
      ],
      "metadata": {
        "colab": {
          "base_uri": "https://localhost:8080/"
        },
        "id": "IW0NcyHbIqcc",
        "outputId": "f906dbf7-56f5-49dc-a6af-b23116af0b81"
      },
      "execution_count": 23,
      "outputs": [
        {
          "output_type": "stream",
          "name": "stdout",
          "text": [
            "0.06176090169992608\n"
          ]
        }
      ]
    },
    {
      "cell_type": "markdown",
      "source": [
        "Own Text Analysis"
      ],
      "metadata": {
        "id": "4EFzW58KJQBV"
      }
    },
    {
      "cell_type": "code",
      "source": [
        "with open(\"review.text\", 'r') as f:\n",
        "  text  = f.read()"
      ],
      "metadata": {
        "id": "UmtlMBjLJSPC"
      },
      "execution_count": 30,
      "outputs": []
    },
    {
      "cell_type": "code",
      "source": [
        "blob = TextBlob(text)\n",
        "sentiment = blob.sentiment.polarity\n",
        "print(sentiment)"
      ],
      "metadata": {
        "colab": {
          "base_uri": "https://localhost:8080/"
        },
        "id": "C5AYidkAJqBD",
        "outputId": "1df5fcaf-7519-43a3-a685-bc20364e85b4"
      },
      "execution_count": 31,
      "outputs": [
        {
          "output_type": "stream",
          "name": "stdout",
          "text": [
            "0.22499999999999998\n"
          ]
        }
      ]
    },
    {
      "cell_type": "code",
      "source": [],
      "metadata": {
        "id": "bgEL8i5yJua9"
      },
      "execution_count": null,
      "outputs": []
    }
  ]
}